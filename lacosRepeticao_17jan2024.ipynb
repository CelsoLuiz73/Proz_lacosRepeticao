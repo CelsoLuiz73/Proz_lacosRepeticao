{
  "nbformat": 4,
  "nbformat_minor": 0,
  "metadata": {
    "colab": {
      "provenance": [],
      "authorship_tag": "ABX9TyMMA0TwynpqmepmCEnDx7yX",
      "include_colab_link": true
    },
    "kernelspec": {
      "name": "python3",
      "display_name": "Python 3"
    },
    "language_info": {
      "name": "python"
    }
  },
  "cells": [
    {
      "cell_type": "markdown",
      "metadata": {
        "id": "view-in-github",
        "colab_type": "text"
      },
      "source": [
        "<a href=\"https://colab.research.google.com/github/CelsoLuiz73/Proz_lacosRepeticao/blob/master/lacosRepeticao_17jan2024.ipynb\" target=\"_parent\"><img src=\"https://colab.research.google.com/assets/colab-badge.svg\" alt=\"Open In Colab\"/></a>"
      ]
    },
    {
      "cell_type": "code",
      "execution_count": 1,
      "metadata": {
        "colab": {
          "base_uri": "https://localhost:8080/"
        },
        "id": "MoulRjnECI-N",
        "outputId": "b19ac59b-120b-4f4b-ca20-59993887c489"
      },
      "outputs": [
        {
          "output_type": "stream",
          "name": "stdout",
          "text": [
            "Andar =  0\n",
            "Andar =  1\n",
            "Andar =  2\n",
            "Andar =  3\n",
            "Andar =  4\n",
            "Andar =  5\n",
            "Andar =  6\n",
            "Andar =  7\n",
            "Andar =  8\n",
            "Andar =  9\n",
            "Andar =  10\n",
            "Andar =  11\n",
            "Andar =  12\n",
            "Andar =  14\n",
            "Andar =  15\n",
            "Andar =  16\n",
            "Andar =  17\n",
            "Andar =  18\n",
            "Andar =  19\n",
            "Andar =  20\n"
          ]
        }
      ],
      "source": [
        "for i in range (21):\n",
        "  if (i == 13):\n",
        "    continue\n",
        "  print(\"Andar = \", i)"
      ]
    },
    {
      "cell_type": "code",
      "source": [
        "i = 0\n",
        "while (i <= 20):\n",
        "  if (i == 13):\n",
        "    i = i + 1\n",
        "    continue\n",
        "  else:\n",
        "    print(\"Andar = \", i)\n",
        "    i = i + 1"
      ],
      "metadata": {
        "colab": {
          "base_uri": "https://localhost:8080/"
        },
        "id": "ahMRz-E4IP3I",
        "outputId": "0c10b696-5309-4322-8439-43934e2081b3"
      },
      "execution_count": 9,
      "outputs": [
        {
          "output_type": "stream",
          "name": "stdout",
          "text": [
            "Andar =  0\n",
            "Andar =  1\n",
            "Andar =  2\n",
            "Andar =  3\n",
            "Andar =  4\n",
            "Andar =  5\n",
            "Andar =  6\n",
            "Andar =  7\n",
            "Andar =  8\n",
            "Andar =  9\n",
            "Andar =  10\n",
            "Andar =  11\n",
            "Andar =  12\n",
            "Andar =  14\n",
            "Andar =  15\n",
            "Andar =  16\n",
            "Andar =  17\n",
            "Andar =  18\n",
            "Andar =  19\n",
            "Andar =  20\n"
          ]
        }
      ]
    },
    {
      "cell_type": "code",
      "source": [
        "i = 20\n",
        "while i > 0:\n",
        "  if i != 13:\n",
        "    print(i)\n",
        "  i -= 1"
      ],
      "metadata": {
        "colab": {
          "base_uri": "https://localhost:8080/"
        },
        "id": "rPqQ5q6ni1cb",
        "outputId": "1265ba0f-5630-4c58-9b59-0910c5163a40"
      },
      "execution_count": 7,
      "outputs": [
        {
          "output_type": "stream",
          "name": "stdout",
          "text": [
            "20\n",
            "19\n",
            "18\n",
            "17\n",
            "16\n",
            "15\n",
            "14\n",
            "12\n",
            "11\n",
            "10\n",
            "9\n",
            "8\n",
            "7\n",
            "6\n",
            "5\n",
            "4\n",
            "3\n",
            "2\n",
            "1\n"
          ]
        }
      ]
    },
    {
      "cell_type": "code",
      "source": [
        "for i in range(20, 0, -1):\n",
        "  if i != 13:\n",
        "    print(i)"
      ],
      "metadata": {
        "colab": {
          "base_uri": "https://localhost:8080/"
        },
        "id": "l9XNWtVvjkqK",
        "outputId": "87499b81-97b9-4444-8e21-0b2bf9092af5"
      },
      "execution_count": 8,
      "outputs": [
        {
          "output_type": "stream",
          "name": "stdout",
          "text": [
            "20\n",
            "19\n",
            "18\n",
            "17\n",
            "16\n",
            "15\n",
            "14\n",
            "12\n",
            "11\n",
            "10\n",
            "9\n",
            "8\n",
            "7\n",
            "6\n",
            "5\n",
            "4\n",
            "3\n",
            "2\n",
            "1\n"
          ]
        }
      ]
    }
  ]
}